{
  "nbformat": 4,
  "nbformat_minor": 0,
  "metadata": {
    "colab": {
      "provenance": [],
      "mount_file_id": "12K7ULUwdvXqAju1kyBgyHsGW1wdtmP8Q",
      "authorship_tag": "ABX9TyPSJWFAjAgb7cw0b+nD5WQ7",
      "include_colab_link": true
    },
    "kernelspec": {
      "name": "python3",
      "display_name": "Python 3"
    },
    "language_info": {
      "name": "python"
    }
  },
  "cells": [
    {
      "cell_type": "markdown",
      "metadata": {
        "id": "view-in-github",
        "colab_type": "text"
      },
      "source": [
        "<a href=\"https://colab.research.google.com/github/ReneCordoba/Talento_Tech/blob/main/ubicacion_casa.ipynb\" target=\"_parent\"><img src=\"https://colab.research.google.com/assets/colab-badge.svg\" alt=\"Open In Colab\"/></a>"
      ]
    },
    {
      "cell_type": "code",
      "execution_count": 16,
      "metadata": {
        "colab": {
          "base_uri": "https://localhost:8080/"
        },
        "id": "rjab60zvzu0o",
        "outputId": "68b38276-0cb0-4865-9660-631f38942d7a"
      },
      "outputs": [
        {
          "output_type": "stream",
          "name": "stderr",
          "text": [
            "<ipython-input-16-55d41fe71671>:65: UserWarning: Geometry is in a geographic CRS. Results from 'centroid' are likely incorrect. Use 'GeoSeries.to_crs()' to re-project geometries to a projected CRS before this operation.\n",
            "\n",
            "  centroid = cauca_data.geometry.centroid.unary_union\n"
          ]
        }
      ],
      "source": [
        "from textwrap import fill\n",
        "import folium\n",
        "import geopandas as gpd\n",
        "from shapely.geometry import Polygon\n",
        "\n",
        "# Cargar el archivo GeoJSON del municipio de Popayán\n",
        "municipios=\"/content/drive/MyDrive/datasets/municipios.geojson\"\n",
        "cauca_geojson = gpd.read_file(municipios)\n",
        "cauca_data  = cauca_geojson[cauca_geojson['DEPTO'] == 'CAUCA']\n",
        "\n",
        "\n",
        "# Coordenadas del polígono del barrio\n",
        "coords_polygon1 = [\n",
        "    [2.448140522862488, -76.64116715122596],\n",
        "    [2.447654523516846, -76.64157252059111],\n",
        "    [2.446785615156003, -76.64205159347689],\n",
        "    [2.4464395243800254, -76.64143985425349],\n",
        "    [2.447897523211708, -76.64092392960714],\n",
        "]\n",
        "\n",
        "# Coordenadas del polígono de mi casa\n",
        "coords_polygon2 = [\n",
        "    [2.446598813692617, -76.64149831893708],\n",
        "    [2.4465195748784367, -76.64152573512277],\n",
        "    [2.4464921836822953, -76.64145621550882],\n",
        "    [2.4465753355257363, -76.64142977847287],\n",
        "    [2.446598813692617, -76.64149831893708],\n",
        "]\n",
        "# Coordenadas del punto de mi casa\n",
        "coords_point = [2.4465383545003476, -76.6414738801883]\n",
        "\n",
        "# Coordenadas del punto del parque Caldas\n",
        "coords_point1 = [2.441908698282731, -76.60632516429143]\n",
        "\n",
        "# Coordenadas de algunas vías cerca de mi casa\n",
        "line_coords1 = [\n",
        "    [2.447953270821202, -76.64132393524766],\n",
        "    [2.447579852939043, -76.64103401011174],\n",
        "]\n",
        "\n",
        "line_coords2 = [\n",
        "    [2.447661433651703, -76.64158055255872],\n",
        "    [2.44748856942158, -76.6410747957219],\n",
        "]\n",
        "\n",
        "line_coords3 = [\n",
        "    [2.4474486776727247, -76.64169368237775],\n",
        "    [2.4472359216599244, -76.6411613067597],\n",
        "]\n",
        "\n",
        "line_coords4 = [\n",
        "    [2.4472001067707083, -76.64182906255336],\n",
        "    [2.4469786049561293, -76.64125263217588],\n",
        "]\n",
        "\n",
        "line_coords5 = [\n",
        "    [2.4469504138134255, -76.64196208494806],\n",
        "    [2.4467128027309144, -76.6413493757359],\n",
        "]\n",
        "\n",
        "# Filtrar el municipio de Popayán\n",
        "popayan_data = cauca_data[cauca_data['MPIO_CNMBR'] == 'POPAYAN']\n",
        "\n",
        "# Calcular el centroide del conjunto de todas las geometrías\n",
        "centroid = cauca_data.geometry.centroid.unary_union\n",
        "total_coords = []\n",
        "for geom in centroid.geoms:\n",
        "    total_coords.extend(geom.coords)\n",
        "total_len = len(total_coords)\n",
        "centroid_x = sum(coord[0] for coord in total_coords) / total_len\n",
        "centroid_y = sum(coord[1] for coord in total_coords) / total_len\n",
        "\n",
        "# Crear un mapa centrado en el centroide del conjunto de geometrías\n",
        "m = folium.Map(location=[centroid_y, centroid_x], zoom_start=12)\n",
        "# hacer zoom al punto de mi casa\n",
        "zoom_level = 8\n",
        "m = folium.Map(location=[coords_point[0], coords_point[1]], zoom_start=zoom_level)\n",
        "# Agregar el municipio de Popayán al mapa en rojo\n",
        "folium.GeoJson(popayan_data, style_function=lambda x: {'fillColor': 'transparent', 'color': 'red'}).add_to(m)\n",
        "\n",
        "# Agregar los límites del resto de los municipios al mapa\n",
        "folium.GeoJson(cauca_data[cauca_data['MPIO_CNMBR'] != 'POPAYAN'], style_function=lambda x: {'color': 'rgba(0, 0, 0, 0.3)'}).add_to(m)\n",
        "# Agregar el polígono del barrio al mapa en gris\n",
        "folium.Polygon(locations=coords_polygon1, color='grey', fill=False).add_to(m)\n",
        "\n",
        "# Agregar el polígono de mi casa al mapa en rojo\n",
        "folium.Polygon(locations=coords_polygon2, color='red', fill=False).add_to(m)\n",
        "# Agregar el punto de mi casa al mapa\n",
        "folium.CircleMarker(location=coords_point, radius=1, color='blue', fill=True, fill_color='blue', fill_opacity=0.5).add_to(m)\n",
        "# Definir el contenido del popup de mi casa con el popup que contiene la imagen de popayan\n",
        "contenido_popup = \"\"\"\n",
        "<center><h4>Mi Hogar.</h4></center>\n",
        "<center><img src=\"https://upload.wikimedia.org/wikipedia/commons/thumb/7/77/Atardecer_en_Popay%C3%A1n%2C_Cauca.jpg/640px-Atardecer_en_Popay%C3%A1n%2C_Cauca.jpg\" width=\"200\" height=\"200\"></center>\n",
        "<center><A HREF=\"https://es.wikipedia.org/wiki/Popay%C3%A1n\"> Conozca mas de popayán </A></center>\n",
        "<center><h4>Ciudad Blanca de Colombia.</h4></center>\n",
        "\"\"\"\n",
        "# Agregar un marcador de mi casa\n",
        "folium.Marker(location=coords_point, tooltip=\"Haz Click!\", icon=folium.Icon(color=\"red\"), popup=folium.Popup(contenido_popup, max_width=300)).add_to(m)\n",
        "\n",
        "# Definir el contenido del popup con una imagen del parque caldas\n",
        "contenido_popup1 = \"\"\"\n",
        "<h4>Parque Caldas, Popayán Cauca.</h4>\n",
        "<center><img src=\"https://upload.wikimedia.org/wikipedia/commons/thumb/e/e3/Cldas.jpg/640px-Cldas.jpg\" width=\"200\" height=\"200\"></center>\n",
        "<center><A HREF=\"https://es.wikipedia.org/wiki/Popay%C3%A1n\"> Conozca mas de popayán </A></center>\n",
        "<center><h4>Ciudad Blanca de Colombia.</h4></center>\n",
        "\"\"\"\n",
        "# Agregar un marcador con el popup que contiene la imagen del parque caldas\n",
        "folium.Marker(location= coords_point1,tooltip=\"Haz Click!\", icon=folium.Icon(color=\"green\"), popup=folium.Popup(contenido_popup1, max_width=300)).add_to(m)\n",
        "# Agregar las líneas de las vías cerca de mi casa al mapa\n",
        "folium.PolyLine(locations=line_coords1, color='grey', fill=False).add_to(m)\n",
        "folium.PolyLine(locations=line_coords2, color='grey', fill=False).add_to(m)\n",
        "folium.PolyLine(locations=line_coords3, color='grey', fill=False).add_to(m)\n",
        "folium.PolyLine(locations=line_coords4, color='grey', fill=False).add_to(m)\n",
        "folium.PolyLine(locations=line_coords5, color='grey', fill=False).add_to(m)\n",
        "# Mostrar el mapa\n",
        "#m\n",
        "#mapa\n",
        "# Guardar el mapa como archivo HTML\n",
        "m.save(\"mapa_popayan.html\")"
      ]
    },
    {
      "cell_type": "code",
      "source": [],
      "metadata": {
        "id": "yknJZe_z7iYA"
      },
      "execution_count": null,
      "outputs": []
    }
  ]
}